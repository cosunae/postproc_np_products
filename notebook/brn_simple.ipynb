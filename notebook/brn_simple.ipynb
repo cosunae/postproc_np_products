{
 "cells": [
  {
   "cell_type": "code",
   "execution_count": 1,
   "metadata": {},
   "outputs": [
    {
     "name": "stdout",
     "output_type": "stream",
     "text": [
      "Python version\n",
      "3.10.1 | packaged by conda-forge | (main, Dec 22 2021, 01:39:05) [GCC 9.4.0]\n",
      "Version info.\n",
      "sys.version_info(major=3, minor=10, micro=1, releaselevel='final', serial=0)\n"
     ]
    }
   ],
   "source": [
    "import sys\n",
    "print(\"Python version\")\n",
    "print (sys.version)\n",
    "print(\"Version info.\")\n",
    "print (sys.version_info)\n"
   ]
  },
  {
   "cell_type": "code",
   "execution_count": 2,
   "metadata": {},
   "outputs": [],
   "source": [
    "import numpy as np\n",
    "import cfgrib\n",
    "import xarray as xr\n",
    "import matplotlib.pyplot as plt\n",
    "import cProfile\n",
    "import pstats\n",
    "import io\n",
    "import time\n",
    "from pstats import SortKey\n",
    "import dask"
   ]
  },
  {
   "cell_type": "markdown",
   "metadata": {},
   "source": [
    "# Computing the Bulk Richardson Number\n",
    "\n",
    "> The Bulk Richardson Number (BRN) is an approximation of the Gradient Richardson number.[1] The BRN is a dimensionless ratio in meteorology related to the consumption of turbulence divided by the shear production (the generation of turbulence kinetic energy caused by wind shear) of turbulence. It is used to show dynamic stability and the formation of turbulence.\n",
    "\n",
    "https://en.wikipedia.org/wiki/Bulk_Richardson_number\n",
    "\n",
    "$R_{B} = \\frac{g / T_{v} \\Delta \\theta _ {v} \\Delta z}{(\\Delta U)^{2} + (\\Delta V)^2} $"
   ]
  },
  {
   "cell_type": "code",
   "execution_count": 3,
   "metadata": {},
   "outputs": [],
   "source": [
    "pc_g = 9.80665\n",
    "\n",
    "def fthetav(p, t, qv):\n",
    "    pc_r_d = 287.05\n",
    "    pc_r_v = 461.51  # Gas constant for water vapour[J kg-1 K-1]\n",
    "    pc_cp_d = 1005.0\n",
    "    pc_rvd = pc_r_v / pc_r_d\n",
    "\n",
    "    pc_rdocp = pc_r_d/pc_cp_d\n",
    "    pc_rvd_o = pc_rvd - 1.0\n",
    "\n",
    "    # Reference surface pressure for computation of potential temperature\n",
    "    p0 = 1.0e5\n",
    "    return (p0 / p) ** pc_rdocp * t * (1.+(pc_rvd_o*qv / (1.-qv)))\n",
    "\n",
    "def fbrn(p,t,qv,u,v,hhl,hsurf):\n",
    "    nlevels = len(p.coords[\"generalVerticalLayer\"])\n",
    "\n",
    "    thetav = fthetav(p,t,qv)\n",
    "    thetav_sum = thetav.isel(generalVerticalLayer=slice(None, None, -1)).cumsum(dim='generalVerticalLayer') \n",
    "\n",
    "    # dask.delayed(thetav_sum.data).visualize(filename='thetasum.svg')\n",
    "\n",
    "    nlevels_xr =xr.DataArray(data=np.arange(nlevels,0,-1), dims=[\"generalVerticalLayer\"])\n",
    "\n",
    "    brn = pc_g* (hhl-hsurf)*(thetav - thetav.isel(generalVerticalLayer=79)) / \\\n",
    "        ( (thetav_sum/nlevels_xr)*(u**2 + v**2))\n",
    "    return brn\n"
   ]
  },
  {
   "cell_type": "markdown",
   "metadata": {},
   "source": [
    "# Load the COSMO-1E data from grib using cfgrib"
   ]
  },
  {
   "cell_type": "code",
   "execution_count": 9,
   "metadata": {},
   "outputs": [],
   "source": [
    "data_dir ='/scratch/cosuna/postproc_np_products/grib_files/cosmo-1e/'\n",
    "def load_data(data_dir, chunk_size=None):\n",
    "    \n",
    "    chunk_arg = {}\n",
    "    if chunk_size:\n",
    "        chunk_arg = {\"chunks\": {\"generalVerticalLayer\": chunk_size}}\n",
    "\n",
    "    dss = cfgrib.open_datasets(\n",
    "        data_dir + \"/lfff00000000\",\n",
    "        backend_kwargs={\n",
    "            \"read_keys\": [\"typeOfLevel\", \"gridType\"],\n",
    "            \"filter_by_keys\": {\"typeOfLevel\": \"generalVerticalLayer\"},\n",
    "        },\n",
    "        encode_cf=(\"time\", \"geography\", \"vertical\"),\n",
    "        **chunk_arg\n",
    "    )\n",
    "\n",
    "    massds = dss[0]\n",
    "    uds = cfgrib.open_dataset(\n",
    "        data_dir + \"/lfff00000000\",\n",
    "        backend_kwargs={\n",
    "            \"read_keys\": [\"cfVarName\"],\n",
    "            \"filter_by_keys\": {\"cfVarName\": \"u\"},\n",
    "        },\n",
    "        encode_cf=(\"time\", \"geography\", \"vertical\"),\n",
    "        **chunk_arg\n",
    "    )\n",
    "\n",
    "    vds = cfgrib.open_dataset(\n",
    "        data_dir + \"/lfff00000000\",\n",
    "        backend_kwargs={\n",
    "            \"read_keys\": [\"cfVarName\"],\n",
    "            \"filter_by_keys\": {\"cfVarName\": \"v\"},\n",
    "        },\n",
    "        encode_cf=(\"time\", \"geography\", \"vertical\"),\n",
    "        **chunk_arg\n",
    "    )\n",
    "\n",
    "    hsurf_ds = cfgrib.open_dataset(\n",
    "        data_dir + \"/lfff00000000c\",\n",
    "        backend_kwargs={\n",
    "            \"read_keys\": [\"shortName\"],\n",
    "            \"filter_by_keys\": {\"shortName\": \"HSURF\"},\n",
    "        },\n",
    "        encode_cf=(\"time\", \"geography\", \"vertical\"),\n",
    "        **chunk_arg\n",
    "    )\n",
    "\n",
    "    if chunk_size:\n",
    "        chunk_arg = {\"chunks\": {\"generalVertical\": chunk_size}}\n",
    "\n",
    "    cds = cfgrib.open_dataset(\n",
    "        data_dir + \"/lfff00000000c\",\n",
    "        backend_kwargs={\n",
    "            \"read_keys\": [\"typeOfLevel\", \"gridType\"],\n",
    "            \"filter_by_keys\": {\"typeOfLevel\": \"generalVertical\"},\n",
    "        },\n",
    "        encode_cf=(\"time\", \"geography\", \"vertical\"),\n",
    "        **chunk_arg\n",
    "    )\n",
    "\n",
    "    hhl = cds[\"HHL\"].rename({\"generalVertical\": \"generalVerticalLayer\"})\n",
    "\n",
    "    return (\n",
    "        massds[\"P\"],\n",
    "        massds[\"T\"],\n",
    "        massds[\"QV\"],\n",
    "        hhl,\n",
    "        hsurf_ds[\"HSURF\"],\n",
    "        uds[\"U\"],\n",
    "        vds[\"V\"],\n",
    "    )"
   ]
  },
  {
   "cell_type": "code",
   "execution_count": null,
   "metadata": {},
   "outputs": [],
   "source": [
    "start=time.time()\n",
    "p,t,qv,hhl,hsurf,u,v = load_data(data_dir)\n",
    "end=time.time()\n",
    "print(\"time:\", end-start)"
   ]
  },
  {
   "cell_type": "code",
   "execution_count": null,
   "metadata": {},
   "outputs": [],
   "source": [
    "start=time.time()\n",
    "brn = fbrn(p,t,qv,u,v,hhl,hsurf)\n",
    "brn.name = \"BRN\"\n",
    "end=time.time()\n",
    "print(\"Time:\", end-start)"
   ]
  },
  {
   "cell_type": "code",
   "execution_count": null,
   "metadata": {},
   "outputs": [],
   "source": [
    "brn.data.visualize(filename='thetav.svg')"
   ]
  },
  {
   "cell_type": "markdown",
   "metadata": {},
   "source": [
    "# Compute and Store"
   ]
  },
  {
   "cell_type": "code",
   "execution_count": null,
   "metadata": {},
   "outputs": [],
   "source": [
    "start=time.time()\n",
    "brn.compute()\n",
    "end=time.time()\n",
    "print(\"Time:\", end-start)"
   ]
  },
  {
   "cell_type": "code",
   "execution_count": null,
   "metadata": {},
   "outputs": [],
   "source": [
    "start=time.time()\n",
    "brn.to_netcdf(path=\"brn_out.nc\")\n",
    "end=time.time()\n",
    "print(\"Time:\", end-start)"
   ]
  },
  {
   "cell_type": "markdown",
   "metadata": {
    "tags": []
   },
   "source": [
    "# Fieldextra timing BRN:"
   ]
  },
  {
   "cell_type": "markdown",
   "metadata": {},
   "source": [
    "| section  | time (s) | \n",
    "| --- | --- |\n",
    "| collect data | 3.654 |\n",
    "| generate output | 22.292 |"
   ]
  },
  {
   "cell_type": "markdown",
   "metadata": {
    "tags": []
   },
   "source": [
    "# Numpy timing BRN:"
   ]
  },
  {
   "cell_type": "code",
   "execution_count": 5,
   "metadata": {},
   "outputs": [
    {
     "data": {
      "text/html": [
       "<style type=\"text/css\">\n",
       "#T_dacf5_ td:hover {\n",
       "  background-color: #588c7e;\n",
       "  color: #000000;\n",
       "}\n",
       "#T_dacf5_ .index_name {\n",
       "  font-style: italic;\n",
       "  color: darkgrey;\n",
       "  font-weight: normal;\n",
       "}\n",
       "#T_dacf5_ th:not(.index_name) {\n",
       "  background-color: #d96459;\n",
       "  color: white;\n",
       "}\n",
       "#T_dacf5_ caption {\n",
       "  caption-side: top;\n",
       "  font-size: 1.8em;\n",
       "}\n",
       "</style>\n",
       "<table id=\"T_dacf5_\">\n",
       "  <caption>synchronous mode (chunk=10)</caption>\n",
       "  <thead>\n",
       "    <tr>\n",
       "      <th class=\"blank level0\" >&nbsp;</th>\n",
       "      <th class=\"col_heading level0 col0\" >chunk</th>\n",
       "      <th class=\"col_heading level0 col1\" >#cores/node</th>\n",
       "      <th class=\"col_heading level0 col2\" >#nodes</th>\n",
       "      <th class=\"col_heading level0 col3\" >time (s)</th>\n",
       "      <th class=\"col_heading level0 col4\" >load (s)</th>\n",
       "      <th class=\"col_heading level0 col5\" >compute (s)</th>\n",
       "      <th class=\"col_heading level0 col6\" >compute & store (s)</th>\n",
       "    </tr>\n",
       "  </thead>\n",
       "  <tbody>\n",
       "    <tr>\n",
       "      <th id=\"T_dacf5_level0_row0\" class=\"row_heading level0 row0\" >0</th>\n",
       "      <td id=\"T_dacf5_row0_col0\" class=\"data row0 col0\" >0</td>\n",
       "      <td id=\"T_dacf5_row0_col1\" class=\"data row0 col1\" >1</td>\n",
       "      <td id=\"T_dacf5_row0_col2\" class=\"data row0 col2\" >1</td>\n",
       "      <td id=\"T_dacf5_row0_col3\" class=\"data row0 col3\" >18.26</td>\n",
       "      <td id=\"T_dacf5_row0_col4\" class=\"data row0 col4\" >6.90</td>\n",
       "      <td id=\"T_dacf5_row0_col5\" class=\"data row0 col5\" >8.77</td>\n",
       "      <td id=\"T_dacf5_row0_col6\" class=\"data row0 col6\" >11.36</td>\n",
       "    </tr>\n",
       "    <tr>\n",
       "      <th id=\"T_dacf5_level0_row1\" class=\"row_heading level0 row1\" >1</th>\n",
       "      <td id=\"T_dacf5_row1_col0\" class=\"data row1 col0\" >10</td>\n",
       "      <td id=\"T_dacf5_row1_col1\" class=\"data row1 col1\" >1</td>\n",
       "      <td id=\"T_dacf5_row1_col2\" class=\"data row1 col2\" >1</td>\n",
       "      <td id=\"T_dacf5_row1_col3\" class=\"data row1 col3\" >19.86</td>\n",
       "      <td id=\"T_dacf5_row1_col4\" class=\"data row1 col4\" >8.43</td>\n",
       "      <td id=\"T_dacf5_row1_col5\" class=\"data row1 col5\" >11.22</td>\n",
       "      <td id=\"T_dacf5_row1_col6\" class=\"data row1 col6\" >11.43</td>\n",
       "    </tr>\n",
       "  </tbody>\n",
       "</table>\n"
      ],
      "text/plain": [
       "<pandas.io.formats.style.Styler at 0x2ae647c30040>"
      ]
     },
     "metadata": {},
     "output_type": "display_data"
    }
   ],
   "source": [
    "import importlib\n",
    "import perfdata_brn\n",
    "importlib.reload(perfdata_brn)\n",
    "display(perfdata_brn.ssync)"
   ]
  },
  {
   "cell_type": "markdown",
   "metadata": {
    "jp-MarkdownHeadingCollapsed": true,
    "tags": []
   },
   "source": [
    "# Allocate a cluster and defined the scheduler"
   ]
  },
  {
   "cell_type": "code",
   "execution_count": 6,
   "metadata": {},
   "outputs": [
    {
     "name": "stderr",
     "output_type": "stream",
     "text": [
      "/users/cosuna/miniconda3_python3.7/envs/postproc_np_products/lib/python3.10/site-packages/dask_jobqueue/core.py:20: FutureWarning: tmpfile is deprecated and will be removed in a future release. Please use dask.utils.tmpfile instead.\n",
      "  from distributed.utils import tmpfile\n"
     ]
    }
   ],
   "source": [
    "scheduler = \"distributed\"\n",
    "cluster = None\n",
    "if scheduler == \"distributed\":\n",
    "    from dask.distributed import Client\n",
    "\n",
    "    from dask_jobqueue import SLURMCluster\n",
    "\n",
    "    cluster = SLURMCluster(\n",
    "        queue=\"postproc\",\n",
    "        cores=16,\n",
    "        memory=\"24GB\",\n",
    "        job_extra=[\"--exclusive\"],\n",
    "    )\n",
    "    client = Client(cluster)\n",
    "elif scheduler == \"localcluster\":\n",
    "    from dask.distributed import Client, LocalCluster\n",
    "\n",
    "    cluster = LocalCluster(n_workers=16, threads_per_worker=2)\n",
    "    client = Client(cluster)\n",
    "elif scheduler == \"threads\":\n",
    "    from multiprocessing.pool import ThreadPool\n",
    "\n",
    "    dask.config.set(pool=ThreadPool(1))\n",
    "    # dask.config.set(scheduler=\"threads\")\n",
    "elif scheduler == \"synchronous\":\n",
    "    dask.config.set(\n",
    "        scheduler=\"synchronous\"\n",
    "    )  # overwrite default with single-threaded scheduler\n",
    "elif scheduler == \"processes\":\n",
    "    from multiprocessing.pool import Pool\n",
    "    dask.config.set(pool=Pool(2))\n",
    "   "
   ]
  },
  {
   "cell_type": "code",
   "execution_count": 7,
   "metadata": {},
   "outputs": [
    {
     "data": {
      "application/vnd.jupyter.widget-view+json": {
       "model_id": "8ed0ac2228584a2b914fcb8d0f428f12",
       "version_major": 2,
       "version_minor": 0
      },
      "text/plain": [
       "Tab(children=(HTML(value='<div class=\"jp-RenderedHTMLCommon jp-RenderedHTML jp-mod-trusted jp-OutputArea-outpu…"
      ]
     },
     "metadata": {},
     "output_type": "display_data"
    }
   ],
   "source": [
    "cluster"
   ]
  },
  {
   "cell_type": "markdown",
   "metadata": {},
   "source": [
    "# Distributed Computing"
   ]
  },
  {
   "cell_type": "code",
   "execution_count": 12,
   "metadata": {},
   "outputs": [
    {
     "name": "stdout",
     "output_type": "stream",
     "text": [
      "Time: 16.754263877868652\n"
     ]
    }
   ],
   "source": [
    "start=time.time()\n",
    "p,t,qv,hhl,hsurf,u,v = load_data(data_dir, chunk_size=1)\n",
    "brn = fbrn(p,t,qv,u,v,hhl,hsurf)\n",
    "brn.to_netcdf(path=\"brn_out.nc\")\n",
    "end=time.time()\n",
    "print(\"Time:\", end-start)"
   ]
  },
  {
   "cell_type": "code",
   "execution_count": 14,
   "metadata": {},
   "outputs": [],
   "source": [
    "brn = fbrn(p,t,qv,u,v,hhl,hsurf)\n",
    "brn_ds =xr.Dataset(data_vars={\"BRN\": brn})\n",
    "xr.save_mfdataset([dat], paths=[apath], format=\"NETCDF4\")"
   ]
  },
  {
   "cell_type": "code",
   "execution_count": null,
   "metadata": {
    "tags": []
   },
   "outputs": [],
   "source": [
    "%%html\n",
    "<style>\n",
    "table {float:left}\n",
    "</style>"
   ]
  },
  {
   "cell_type": "markdown",
   "metadata": {
    "tags": []
   },
   "source": [
    "# Visualization"
   ]
  },
  {
   "cell_type": "markdown",
   "metadata": {
    "tags": []
   },
   "source": [
    "# Distributed Dask Timing BRN:"
   ]
  },
  {
   "cell_type": "code",
   "execution_count": null,
   "metadata": {},
   "outputs": [],
   "source": [
    "import importlib\n",
    "import perfdata_brn\n",
    "importlib.reload(perfdata_brn)\n",
    "display(perfdata_brn.ssync)\n",
    "display(perfdata_brn.sthreads)\n",
    "display(perfdata_brn.slocalc)\n",
    "display(perfdata_brn.sdist)\n"
   ]
  },
  {
   "cell_type": "markdown",
   "metadata": {},
   "source": [
    "# Dask timing THETAV:"
   ]
  },
  {
   "cell_type": "code",
   "execution_count": null,
   "metadata": {},
   "outputs": [],
   "source": [
    "import importlib\n",
    "import perfdata, perfdata_chunk4\n",
    "importlib.reload(perfdata)\n",
    "importlib.reload(perfdata_chunk4)\n",
    "\n",
    "from IPython.display import display_html\n",
    "from itertools import chain,cycle\n",
    "def display_side_by_side(*args,titles=cycle([''])):\n",
    "    html_str=''\n",
    "    for df,title in zip(args, chain(titles,cycle(['</br>'])) ):\n",
    "        html_str+='<th style=\"text-align:center\"><td style=\"vertical-align:top\">'\n",
    "        html_str+=f'<h2>{title}</h2>'\n",
    "        html_str+=df.to_html().replace('table','table style=\"display:inline\"')\n",
    "        html_str+='</td></th>'\n",
    "    display_html(html_str,raw=True)\n",
    "\n",
    "display_side_by_side(perfdata.ssync_thetav, perfdata_chunk4.ssync_thetav)\n",
    "display_side_by_side(perfdata.sthreads_thetav, perfdata_chunk4.sthreads_thetav)\n",
    "display_side_by_side(perfdata.slocalc_thetav, perfdata_chunk4.slocalc_thetav)\n",
    "display_side_by_side(perfdata.sdist_thetav, perfdata_chunk4.sdist_thetav)"
   ]
  },
  {
   "cell_type": "code",
   "execution_count": null,
   "metadata": {},
   "outputs": [],
   "source": []
  },
  {
   "cell_type": "code",
   "execution_count": null,
   "metadata": {},
   "outputs": [],
   "source": []
  }
 ],
 "metadata": {
  "anaconda-cloud": {},
  "interpreter": {
   "hash": "ff475cce0fc277a7809ed5afd1ff686602f14d427f1353a7fb12ff4fa541fa2c"
  },
  "kernelspec": {
   "display_name": "Python 3 (ipykernel)",
   "language": "python",
   "name": "python3"
  },
  "language_info": {
   "codemirror_mode": {
    "name": "ipython",
    "version": 3
   },
   "file_extension": ".py",
   "mimetype": "text/x-python",
   "name": "python",
   "nbconvert_exporter": "python",
   "pygments_lexer": "ipython3",
   "version": "3.10.1"
  }
 },
 "nbformat": 4,
 "nbformat_minor": 4
}
